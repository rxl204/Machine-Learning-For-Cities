{
 "cells": [
  {
   "cell_type": "markdown",
   "metadata": {},
   "source": [
    "# Machine Learning for Trees"
   ]
  },
  {
   "cell_type": "code",
   "execution_count": 1,
   "metadata": {},
   "outputs": [],
   "source": [
    "# special IPython command to prepare the notebook for matplotlib\n",
    "%matplotlib inline \n",
    "\n",
    "import requests \n",
    "from StringIO import StringIO\n",
    "import numpy as np\n",
    "import pandas as pd # pandas\n",
    "import matplotlib.pyplot as plt # module for plotting \n",
    "import datetime as dt # module for manipulating dates and times\n",
    "import numpy.linalg as lin # module for performing linear algebra operations\n",
    "import collections\n",
    "from sklearn.model_selection import train_test_split"
   ]
  },
  {
   "cell_type": "code",
   "execution_count": 2,
   "metadata": {},
   "outputs": [
    {
     "name": "stderr",
     "output_type": "stream",
     "text": [
      "/Users/rachellim/anaconda2/lib/python2.7/site-packages/matplotlib/__init__.py:913: UserWarning: axes.color_cycle is deprecated and replaced with axes.prop_cycle; please use the latter.\n",
      "  warnings.warn(self.msg_depr % (key, alt_key))\n"
     ]
    }
   ],
   "source": [
    "# special matplotlib argument for improved plots\n",
    "from matplotlib import rcParams\n",
    "\n",
    "#colorbrewer2 Dark2 qualitative color table\n",
    "dark2_colors = [(0.10588235294117647, 0.6196078431372549, 0.4666666666666667),\n",
    "                (0.8509803921568627, 0.37254901960784315, 0.00784313725490196),\n",
    "                (0.4588235294117647, 0.4392156862745098, 0.7019607843137254),\n",
    "                (0.9058823529411765, 0.1607843137254902, 0.5411764705882353),\n",
    "                (0.4, 0.6509803921568628, 0.11764705882352941),\n",
    "                (0.9019607843137255, 0.6705882352941176, 0.00784313725490196),\n",
    "                (0.6509803921568628, 0.4627450980392157, 0.11372549019607843)]\n",
    "\n",
    "rcParams['figure.figsize'] = (10, 6)\n",
    "rcParams['figure.dpi'] = 150\n",
    "rcParams['axes.color_cycle'] = dark2_colors\n",
    "rcParams['lines.linewidth'] = 2\n",
    "rcParams['axes.facecolor'] = 'white'\n",
    "rcParams['font.size'] = 14\n",
    "rcParams['patch.edgecolor'] = 'white'\n",
    "rcParams['patch.facecolor'] = dark2_colors[0]\n",
    "rcParams['font.family'] = 'StixGeneral'"
   ]
  },
  {
   "cell_type": "markdown",
   "metadata": {},
   "source": [
    "## 1. Read in tree data"
   ]
  },
  {
   "cell_type": "code",
   "execution_count": 3,
   "metadata": {},
   "outputs": [
    {
     "data": {
      "text/html": [
       "<div>\n",
       "<style>\n",
       "    .dataframe thead tr:only-child th {\n",
       "        text-align: right;\n",
       "    }\n",
       "\n",
       "    .dataframe thead th {\n",
       "        text-align: left;\n",
       "    }\n",
       "\n",
       "    .dataframe tbody tr th {\n",
       "        vertical-align: top;\n",
       "    }\n",
       "</style>\n",
       "<table border=\"1\" class=\"dataframe\">\n",
       "  <thead>\n",
       "    <tr style=\"text-align: right;\">\n",
       "      <th></th>\n",
       "      <th>tree_id</th>\n",
       "      <th>block_id</th>\n",
       "      <th>created_at</th>\n",
       "      <th>tree_dbh</th>\n",
       "      <th>stump_diam</th>\n",
       "      <th>curb_loc</th>\n",
       "      <th>status</th>\n",
       "      <th>health</th>\n",
       "      <th>spc_latin</th>\n",
       "      <th>spc_common</th>\n",
       "      <th>...</th>\n",
       "      <th>boro_ct</th>\n",
       "      <th>state</th>\n",
       "      <th>latitude</th>\n",
       "      <th>longitude</th>\n",
       "      <th>x_sp</th>\n",
       "      <th>y_sp</th>\n",
       "      <th>council district</th>\n",
       "      <th>census tract</th>\n",
       "      <th>bin</th>\n",
       "      <th>bbl</th>\n",
       "    </tr>\n",
       "  </thead>\n",
       "  <tbody>\n",
       "    <tr>\n",
       "      <th>0</th>\n",
       "      <td>180683</td>\n",
       "      <td>348711</td>\n",
       "      <td>08/27/2015</td>\n",
       "      <td>3</td>\n",
       "      <td>0</td>\n",
       "      <td>OnCurb</td>\n",
       "      <td>Alive</td>\n",
       "      <td>Fair</td>\n",
       "      <td>Acer rubrum</td>\n",
       "      <td>red maple</td>\n",
       "      <td>...</td>\n",
       "      <td>4073900</td>\n",
       "      <td>New York</td>\n",
       "      <td>40.723092</td>\n",
       "      <td>-73.844215</td>\n",
       "      <td>1027431.148</td>\n",
       "      <td>202756.7687</td>\n",
       "      <td>29.0</td>\n",
       "      <td>739.0</td>\n",
       "      <td>4052307.0</td>\n",
       "      <td>4.022210e+09</td>\n",
       "    </tr>\n",
       "    <tr>\n",
       "      <th>1</th>\n",
       "      <td>200540</td>\n",
       "      <td>315986</td>\n",
       "      <td>09/03/2015</td>\n",
       "      <td>21</td>\n",
       "      <td>0</td>\n",
       "      <td>OnCurb</td>\n",
       "      <td>Alive</td>\n",
       "      <td>Fair</td>\n",
       "      <td>Quercus palustris</td>\n",
       "      <td>pin oak</td>\n",
       "      <td>...</td>\n",
       "      <td>4097300</td>\n",
       "      <td>New York</td>\n",
       "      <td>40.794111</td>\n",
       "      <td>-73.818679</td>\n",
       "      <td>1034455.701</td>\n",
       "      <td>228644.8374</td>\n",
       "      <td>19.0</td>\n",
       "      <td>973.0</td>\n",
       "      <td>4101931.0</td>\n",
       "      <td>4.044750e+09</td>\n",
       "    </tr>\n",
       "    <tr>\n",
       "      <th>2</th>\n",
       "      <td>204026</td>\n",
       "      <td>218365</td>\n",
       "      <td>09/05/2015</td>\n",
       "      <td>3</td>\n",
       "      <td>0</td>\n",
       "      <td>OnCurb</td>\n",
       "      <td>Alive</td>\n",
       "      <td>Good</td>\n",
       "      <td>Gleditsia triacanthos var. inermis</td>\n",
       "      <td>honeylocust</td>\n",
       "      <td>...</td>\n",
       "      <td>3044900</td>\n",
       "      <td>New York</td>\n",
       "      <td>40.717581</td>\n",
       "      <td>-73.936608</td>\n",
       "      <td>1001822.831</td>\n",
       "      <td>200716.8913</td>\n",
       "      <td>34.0</td>\n",
       "      <td>449.0</td>\n",
       "      <td>3338310.0</td>\n",
       "      <td>3.028870e+09</td>\n",
       "    </tr>\n",
       "    <tr>\n",
       "      <th>3</th>\n",
       "      <td>204337</td>\n",
       "      <td>217969</td>\n",
       "      <td>09/05/2015</td>\n",
       "      <td>10</td>\n",
       "      <td>0</td>\n",
       "      <td>OnCurb</td>\n",
       "      <td>Alive</td>\n",
       "      <td>Good</td>\n",
       "      <td>Gleditsia triacanthos var. inermis</td>\n",
       "      <td>honeylocust</td>\n",
       "      <td>...</td>\n",
       "      <td>3044900</td>\n",
       "      <td>New York</td>\n",
       "      <td>40.713537</td>\n",
       "      <td>-73.934456</td>\n",
       "      <td>1002420.358</td>\n",
       "      <td>199244.2531</td>\n",
       "      <td>34.0</td>\n",
       "      <td>449.0</td>\n",
       "      <td>3338342.0</td>\n",
       "      <td>3.029250e+09</td>\n",
       "    </tr>\n",
       "    <tr>\n",
       "      <th>4</th>\n",
       "      <td>189565</td>\n",
       "      <td>223043</td>\n",
       "      <td>08/30/2015</td>\n",
       "      <td>21</td>\n",
       "      <td>0</td>\n",
       "      <td>OnCurb</td>\n",
       "      <td>Alive</td>\n",
       "      <td>Good</td>\n",
       "      <td>Tilia americana</td>\n",
       "      <td>American linden</td>\n",
       "      <td>...</td>\n",
       "      <td>3016500</td>\n",
       "      <td>New York</td>\n",
       "      <td>40.666778</td>\n",
       "      <td>-73.975979</td>\n",
       "      <td>990913.775</td>\n",
       "      <td>182202.4260</td>\n",
       "      <td>39.0</td>\n",
       "      <td>165.0</td>\n",
       "      <td>3025654.0</td>\n",
       "      <td>3.010850e+09</td>\n",
       "    </tr>\n",
       "  </tbody>\n",
       "</table>\n",
       "<p>5 rows × 45 columns</p>\n",
       "</div>"
      ],
      "text/plain": [
       "   tree_id  block_id  created_at  tree_dbh  stump_diam curb_loc status health  \\\n",
       "0   180683    348711  08/27/2015         3           0   OnCurb  Alive   Fair   \n",
       "1   200540    315986  09/03/2015        21           0   OnCurb  Alive   Fair   \n",
       "2   204026    218365  09/05/2015         3           0   OnCurb  Alive   Good   \n",
       "3   204337    217969  09/05/2015        10           0   OnCurb  Alive   Good   \n",
       "4   189565    223043  08/30/2015        21           0   OnCurb  Alive   Good   \n",
       "\n",
       "                            spc_latin       spc_common      ...       boro_ct  \\\n",
       "0                         Acer rubrum        red maple      ...       4073900   \n",
       "1                   Quercus palustris          pin oak      ...       4097300   \n",
       "2  Gleditsia triacanthos var. inermis      honeylocust      ...       3044900   \n",
       "3  Gleditsia triacanthos var. inermis      honeylocust      ...       3044900   \n",
       "4                     Tilia americana  American linden      ...       3016500   \n",
       "\n",
       "      state   latitude  longitude         x_sp         y_sp council district  \\\n",
       "0  New York  40.723092 -73.844215  1027431.148  202756.7687             29.0   \n",
       "1  New York  40.794111 -73.818679  1034455.701  228644.8374             19.0   \n",
       "2  New York  40.717581 -73.936608  1001822.831  200716.8913             34.0   \n",
       "3  New York  40.713537 -73.934456  1002420.358  199244.2531             34.0   \n",
       "4  New York  40.666778 -73.975979   990913.775  182202.4260             39.0   \n",
       "\n",
       "  census tract        bin           bbl  \n",
       "0        739.0  4052307.0  4.022210e+09  \n",
       "1        973.0  4101931.0  4.044750e+09  \n",
       "2        449.0  3338310.0  3.028870e+09  \n",
       "3        449.0  3338342.0  3.029250e+09  \n",
       "4        165.0  3025654.0  3.010850e+09  \n",
       "\n",
       "[5 rows x 45 columns]"
      ]
     },
     "execution_count": 3,
     "metadata": {},
     "output_type": "execute_result"
    }
   ],
   "source": [
    "tree_url = \"https://data.cityofnewyork.us/api/views/uvpi-gqnh/rows.csv?accessType=DOWNLOAD\"\n",
    "tree = pd.read_csv(tree_url)\n",
    "tree.head()"
   ]
  },
  {
   "cell_type": "code",
   "execution_count": 17,
   "metadata": {},
   "outputs": [
    {
     "name": "stdout",
     "output_type": "stream",
     "text": [
      "There are 132 tree types in NYC\n"
     ]
    }
   ],
   "source": [
    "print \"There are\", tree.spc_common.nunique(), \"tree types in NYC\""
   ]
  },
  {
   "cell_type": "markdown",
   "metadata": {},
   "source": [
    "## 2. Most common tree type"
   ]
  },
  {
   "cell_type": "code",
   "execution_count": 32,
   "metadata": {},
   "outputs": [
    {
     "data": {
      "text/plain": [
       "spc_common\n",
       "London planetree     87014\n",
       "honeylocust          64264\n",
       "Callery pear         58931\n",
       "pin oak              53185\n",
       "Norway maple         34189\n",
       "littleleaf linden    29742\n",
       "cherry               29279\n",
       "Japanese zelkova     29258\n",
       "ginkgo               21024\n",
       "Sophora              19338\n",
       "Name: tree_id, dtype: int64"
      ]
     },
     "execution_count": 32,
     "metadata": {},
     "output_type": "execute_result"
    }
   ],
   "source": [
    "tree10 = tree.groupby('spc_common')['tree_id'].nunique().sort_values(ascending=False).head(10)\n",
    "tree10"
   ]
  },
  {
   "cell_type": "code",
   "execution_count": 33,
   "metadata": {},
   "outputs": [],
   "source": [
    "top10tree = ['London planetree', 'honeylocust', 'Callery pear', 'pin oak', 'Norway maple', 'littleleaf linden', 'cherry', 'Japanese zelkova', 'ginkgo', 'Sophora']"
   ]
  },
  {
   "cell_type": "code",
   "execution_count": 36,
   "metadata": {},
   "outputs": [],
   "source": [
    "tree10 = tree.loc[tree['spc_common'].isin(top10tree)]"
   ]
  },
  {
   "cell_type": "code",
   "execution_count": 37,
   "metadata": {},
   "outputs": [
    {
     "data": {
      "text/plain": [
       "(426224, 45)"
      ]
     },
     "execution_count": 37,
     "metadata": {},
     "output_type": "execute_result"
    }
   ],
   "source": [
    "tree10.shape"
   ]
  },
  {
   "cell_type": "markdown",
   "metadata": {},
   "source": [
    "## 3. Check general health of trees"
   ]
  },
  {
   "cell_type": "code",
   "execution_count": 38,
   "metadata": {},
   "outputs": [
    {
     "data": {
      "text/plain": [
       "health\n",
       "Fair     96504\n",
       "Good    528850\n",
       "Poor     26818\n",
       "Name: tree_id, dtype: int64"
      ]
     },
     "execution_count": 38,
     "metadata": {},
     "output_type": "execute_result"
    }
   ],
   "source": [
    "tree.groupby('health')['tree_id'].nunique()"
   ]
  },
  {
   "cell_type": "code",
   "execution_count": 39,
   "metadata": {},
   "outputs": [
    {
     "data": {
      "text/plain": [
       "health\n",
       "Fair     61151\n",
       "Good    349040\n",
       "Poor     16032\n",
       "Name: tree_id, dtype: int64"
      ]
     },
     "execution_count": 39,
     "metadata": {},
     "output_type": "execute_result"
    }
   ],
   "source": [
    "tree10.groupby('health')['tree_id'].nunique()"
   ]
  },
  {
   "cell_type": "markdown",
   "metadata": {},
   "source": [
    "#### This shows that the classes are highly imbalanced with most trees classified as \"Good\" while relatively few as \"Fair\" and \"Poor\". The models run on this dataset have a high accuracy (80%)! But the accuracy is only reflecting the underlying class distribution, reflecting the accuracy paradox. Therefore, it is necessary for us to combat the imbalanced training data."
   ]
  },
  {
   "cell_type": "markdown",
   "metadata": {},
   "source": [
    "## 4. Identify underlying pattern in tree health\n",
    "#### For each tree type, what is the percentage of trees in each class? "
   ]
  },
  {
   "cell_type": "code",
   "execution_count": 40,
   "metadata": {},
   "outputs": [],
   "source": [
    "tree_health = tree.groupby(['spc_common', 'health'])['tree_id'].count()\n",
    "tree_health_pct = tree_health.groupby(level=[0]).apply(lambda x: x / x.sum())\n"
   ]
  },
  {
   "cell_type": "code",
   "execution_count": 41,
   "metadata": {},
   "outputs": [],
   "source": [
    "tree_health_pct = tree_health_pct.to_frame().reset_index()"
   ]
  },
  {
   "cell_type": "code",
   "execution_count": 42,
   "metadata": {},
   "outputs": [
    {
     "data": {
      "text/html": [
       "<div>\n",
       "<style>\n",
       "    .dataframe thead tr:only-child th {\n",
       "        text-align: right;\n",
       "    }\n",
       "\n",
       "    .dataframe thead th {\n",
       "        text-align: left;\n",
       "    }\n",
       "\n",
       "    .dataframe tbody tr th {\n",
       "        vertical-align: top;\n",
       "    }\n",
       "</style>\n",
       "<table border=\"1\" class=\"dataframe\">\n",
       "  <thead>\n",
       "    <tr style=\"text-align: right;\">\n",
       "      <th></th>\n",
       "      <th>spc_common</th>\n",
       "      <th>health</th>\n",
       "      <th>tree_id</th>\n",
       "    </tr>\n",
       "  </thead>\n",
       "  <tbody>\n",
       "    <tr>\n",
       "      <th>0</th>\n",
       "      <td>'Schubert' chokecherry</td>\n",
       "      <td>Fair</td>\n",
       "      <td>0.146686</td>\n",
       "    </tr>\n",
       "    <tr>\n",
       "      <th>1</th>\n",
       "      <td>'Schubert' chokecherry</td>\n",
       "      <td>Good</td>\n",
       "      <td>0.803805</td>\n",
       "    </tr>\n",
       "    <tr>\n",
       "      <th>2</th>\n",
       "      <td>'Schubert' chokecherry</td>\n",
       "      <td>Poor</td>\n",
       "      <td>0.049509</td>\n",
       "    </tr>\n",
       "    <tr>\n",
       "      <th>3</th>\n",
       "      <td>American beech</td>\n",
       "      <td>Fair</td>\n",
       "      <td>0.139194</td>\n",
       "    </tr>\n",
       "    <tr>\n",
       "      <th>4</th>\n",
       "      <td>American beech</td>\n",
       "      <td>Good</td>\n",
       "      <td>0.783883</td>\n",
       "    </tr>\n",
       "    <tr>\n",
       "      <th>5</th>\n",
       "      <td>American beech</td>\n",
       "      <td>Poor</td>\n",
       "      <td>0.076923</td>\n",
       "    </tr>\n",
       "    <tr>\n",
       "      <th>6</th>\n",
       "      <td>American elm</td>\n",
       "      <td>Fair</td>\n",
       "      <td>0.162382</td>\n",
       "    </tr>\n",
       "    <tr>\n",
       "      <th>7</th>\n",
       "      <td>American elm</td>\n",
       "      <td>Good</td>\n",
       "      <td>0.804013</td>\n",
       "    </tr>\n",
       "    <tr>\n",
       "      <th>8</th>\n",
       "      <td>American elm</td>\n",
       "      <td>Poor</td>\n",
       "      <td>0.033605</td>\n",
       "    </tr>\n",
       "    <tr>\n",
       "      <th>9</th>\n",
       "      <td>American hophornbeam</td>\n",
       "      <td>Fair</td>\n",
       "      <td>0.146161</td>\n",
       "    </tr>\n",
       "    <tr>\n",
       "      <th>10</th>\n",
       "      <td>American hophornbeam</td>\n",
       "      <td>Good</td>\n",
       "      <td>0.801110</td>\n",
       "    </tr>\n",
       "    <tr>\n",
       "      <th>11</th>\n",
       "      <td>American hophornbeam</td>\n",
       "      <td>Poor</td>\n",
       "      <td>0.052729</td>\n",
       "    </tr>\n",
       "    <tr>\n",
       "      <th>12</th>\n",
       "      <td>American hornbeam</td>\n",
       "      <td>Fair</td>\n",
       "      <td>0.133817</td>\n",
       "    </tr>\n",
       "    <tr>\n",
       "      <th>13</th>\n",
       "      <td>American hornbeam</td>\n",
       "      <td>Good</td>\n",
       "      <td>0.804878</td>\n",
       "    </tr>\n",
       "    <tr>\n",
       "      <th>14</th>\n",
       "      <td>American hornbeam</td>\n",
       "      <td>Poor</td>\n",
       "      <td>0.061305</td>\n",
       "    </tr>\n",
       "    <tr>\n",
       "      <th>15</th>\n",
       "      <td>American larch</td>\n",
       "      <td>Fair</td>\n",
       "      <td>0.173913</td>\n",
       "    </tr>\n",
       "    <tr>\n",
       "      <th>16</th>\n",
       "      <td>American larch</td>\n",
       "      <td>Good</td>\n",
       "      <td>0.804348</td>\n",
       "    </tr>\n",
       "    <tr>\n",
       "      <th>17</th>\n",
       "      <td>American larch</td>\n",
       "      <td>Poor</td>\n",
       "      <td>0.021739</td>\n",
       "    </tr>\n",
       "    <tr>\n",
       "      <th>18</th>\n",
       "      <td>American linden</td>\n",
       "      <td>Fair</td>\n",
       "      <td>0.143681</td>\n",
       "    </tr>\n",
       "    <tr>\n",
       "      <th>19</th>\n",
       "      <td>American linden</td>\n",
       "      <td>Good</td>\n",
       "      <td>0.801478</td>\n",
       "    </tr>\n",
       "    <tr>\n",
       "      <th>20</th>\n",
       "      <td>American linden</td>\n",
       "      <td>Poor</td>\n",
       "      <td>0.054841</td>\n",
       "    </tr>\n",
       "    <tr>\n",
       "      <th>21</th>\n",
       "      <td>Amur cork tree</td>\n",
       "      <td>Fair</td>\n",
       "      <td>0.207650</td>\n",
       "    </tr>\n",
       "    <tr>\n",
       "      <th>22</th>\n",
       "      <td>Amur cork tree</td>\n",
       "      <td>Good</td>\n",
       "      <td>0.661202</td>\n",
       "    </tr>\n",
       "    <tr>\n",
       "      <th>23</th>\n",
       "      <td>Amur cork tree</td>\n",
       "      <td>Poor</td>\n",
       "      <td>0.131148</td>\n",
       "    </tr>\n",
       "    <tr>\n",
       "      <th>24</th>\n",
       "      <td>Amur maackia</td>\n",
       "      <td>Fair</td>\n",
       "      <td>0.127902</td>\n",
       "    </tr>\n",
       "    <tr>\n",
       "      <th>25</th>\n",
       "      <td>Amur maackia</td>\n",
       "      <td>Good</td>\n",
       "      <td>0.824306</td>\n",
       "    </tr>\n",
       "    <tr>\n",
       "      <th>26</th>\n",
       "      <td>Amur maackia</td>\n",
       "      <td>Poor</td>\n",
       "      <td>0.047792</td>\n",
       "    </tr>\n",
       "    <tr>\n",
       "      <th>27</th>\n",
       "      <td>Amur maple</td>\n",
       "      <td>Fair</td>\n",
       "      <td>0.150805</td>\n",
       "    </tr>\n",
       "    <tr>\n",
       "      <th>28</th>\n",
       "      <td>Amur maple</td>\n",
       "      <td>Good</td>\n",
       "      <td>0.800390</td>\n",
       "    </tr>\n",
       "    <tr>\n",
       "      <th>29</th>\n",
       "      <td>Amur maple</td>\n",
       "      <td>Poor</td>\n",
       "      <td>0.048804</td>\n",
       "    </tr>\n",
       "    <tr>\n",
       "      <th>...</th>\n",
       "      <td>...</td>\n",
       "      <td>...</td>\n",
       "      <td>...</td>\n",
       "    </tr>\n",
       "    <tr>\n",
       "      <th>362</th>\n",
       "      <td>tartar maple</td>\n",
       "      <td>Fair</td>\n",
       "      <td>0.176471</td>\n",
       "    </tr>\n",
       "    <tr>\n",
       "      <th>363</th>\n",
       "      <td>tartar maple</td>\n",
       "      <td>Good</td>\n",
       "      <td>0.745098</td>\n",
       "    </tr>\n",
       "    <tr>\n",
       "      <th>364</th>\n",
       "      <td>tartar maple</td>\n",
       "      <td>Poor</td>\n",
       "      <td>0.078431</td>\n",
       "    </tr>\n",
       "    <tr>\n",
       "      <th>365</th>\n",
       "      <td>tree of heaven</td>\n",
       "      <td>Fair</td>\n",
       "      <td>0.212963</td>\n",
       "    </tr>\n",
       "    <tr>\n",
       "      <th>366</th>\n",
       "      <td>tree of heaven</td>\n",
       "      <td>Good</td>\n",
       "      <td>0.712963</td>\n",
       "    </tr>\n",
       "    <tr>\n",
       "      <th>367</th>\n",
       "      <td>tree of heaven</td>\n",
       "      <td>Poor</td>\n",
       "      <td>0.074074</td>\n",
       "    </tr>\n",
       "    <tr>\n",
       "      <th>368</th>\n",
       "      <td>trident maple</td>\n",
       "      <td>Fair</td>\n",
       "      <td>0.181818</td>\n",
       "    </tr>\n",
       "    <tr>\n",
       "      <th>369</th>\n",
       "      <td>trident maple</td>\n",
       "      <td>Good</td>\n",
       "      <td>0.790909</td>\n",
       "    </tr>\n",
       "    <tr>\n",
       "      <th>370</th>\n",
       "      <td>trident maple</td>\n",
       "      <td>Poor</td>\n",
       "      <td>0.027273</td>\n",
       "    </tr>\n",
       "    <tr>\n",
       "      <th>371</th>\n",
       "      <td>tulip-poplar</td>\n",
       "      <td>Fair</td>\n",
       "      <td>0.189591</td>\n",
       "    </tr>\n",
       "    <tr>\n",
       "      <th>372</th>\n",
       "      <td>tulip-poplar</td>\n",
       "      <td>Good</td>\n",
       "      <td>0.745353</td>\n",
       "    </tr>\n",
       "    <tr>\n",
       "      <th>373</th>\n",
       "      <td>tulip-poplar</td>\n",
       "      <td>Poor</td>\n",
       "      <td>0.065056</td>\n",
       "    </tr>\n",
       "    <tr>\n",
       "      <th>374</th>\n",
       "      <td>two-winged silverbell</td>\n",
       "      <td>Fair</td>\n",
       "      <td>0.253394</td>\n",
       "    </tr>\n",
       "    <tr>\n",
       "      <th>375</th>\n",
       "      <td>two-winged silverbell</td>\n",
       "      <td>Good</td>\n",
       "      <td>0.714932</td>\n",
       "    </tr>\n",
       "    <tr>\n",
       "      <th>376</th>\n",
       "      <td>two-winged silverbell</td>\n",
       "      <td>Poor</td>\n",
       "      <td>0.031674</td>\n",
       "    </tr>\n",
       "    <tr>\n",
       "      <th>377</th>\n",
       "      <td>weeping willow</td>\n",
       "      <td>Fair</td>\n",
       "      <td>0.180851</td>\n",
       "    </tr>\n",
       "    <tr>\n",
       "      <th>378</th>\n",
       "      <td>weeping willow</td>\n",
       "      <td>Good</td>\n",
       "      <td>0.773050</td>\n",
       "    </tr>\n",
       "    <tr>\n",
       "      <th>379</th>\n",
       "      <td>weeping willow</td>\n",
       "      <td>Poor</td>\n",
       "      <td>0.046099</td>\n",
       "    </tr>\n",
       "    <tr>\n",
       "      <th>380</th>\n",
       "      <td>white ash</td>\n",
       "      <td>Fair</td>\n",
       "      <td>0.148082</td>\n",
       "    </tr>\n",
       "    <tr>\n",
       "      <th>381</th>\n",
       "      <td>white ash</td>\n",
       "      <td>Good</td>\n",
       "      <td>0.800178</td>\n",
       "    </tr>\n",
       "    <tr>\n",
       "      <th>382</th>\n",
       "      <td>white ash</td>\n",
       "      <td>Poor</td>\n",
       "      <td>0.051740</td>\n",
       "    </tr>\n",
       "    <tr>\n",
       "      <th>383</th>\n",
       "      <td>white oak</td>\n",
       "      <td>Fair</td>\n",
       "      <td>0.155991</td>\n",
       "    </tr>\n",
       "    <tr>\n",
       "      <th>384</th>\n",
       "      <td>white oak</td>\n",
       "      <td>Good</td>\n",
       "      <td>0.789442</td>\n",
       "    </tr>\n",
       "    <tr>\n",
       "      <th>385</th>\n",
       "      <td>white oak</td>\n",
       "      <td>Poor</td>\n",
       "      <td>0.054567</td>\n",
       "    </tr>\n",
       "    <tr>\n",
       "      <th>386</th>\n",
       "      <td>white pine</td>\n",
       "      <td>Fair</td>\n",
       "      <td>0.178218</td>\n",
       "    </tr>\n",
       "    <tr>\n",
       "      <th>387</th>\n",
       "      <td>white pine</td>\n",
       "      <td>Good</td>\n",
       "      <td>0.767327</td>\n",
       "    </tr>\n",
       "    <tr>\n",
       "      <th>388</th>\n",
       "      <td>white pine</td>\n",
       "      <td>Poor</td>\n",
       "      <td>0.054455</td>\n",
       "    </tr>\n",
       "    <tr>\n",
       "      <th>389</th>\n",
       "      <td>willow oak</td>\n",
       "      <td>Fair</td>\n",
       "      <td>0.113065</td>\n",
       "    </tr>\n",
       "    <tr>\n",
       "      <th>390</th>\n",
       "      <td>willow oak</td>\n",
       "      <td>Good</td>\n",
       "      <td>0.855842</td>\n",
       "    </tr>\n",
       "    <tr>\n",
       "      <th>391</th>\n",
       "      <td>willow oak</td>\n",
       "      <td>Poor</td>\n",
       "      <td>0.031093</td>\n",
       "    </tr>\n",
       "  </tbody>\n",
       "</table>\n",
       "<p>392 rows × 3 columns</p>\n",
       "</div>"
      ],
      "text/plain": [
       "                 spc_common health   tree_id\n",
       "0    'Schubert' chokecherry   Fair  0.146686\n",
       "1    'Schubert' chokecherry   Good  0.803805\n",
       "2    'Schubert' chokecherry   Poor  0.049509\n",
       "3            American beech   Fair  0.139194\n",
       "4            American beech   Good  0.783883\n",
       "5            American beech   Poor  0.076923\n",
       "6              American elm   Fair  0.162382\n",
       "7              American elm   Good  0.804013\n",
       "8              American elm   Poor  0.033605\n",
       "9      American hophornbeam   Fair  0.146161\n",
       "10     American hophornbeam   Good  0.801110\n",
       "11     American hophornbeam   Poor  0.052729\n",
       "12        American hornbeam   Fair  0.133817\n",
       "13        American hornbeam   Good  0.804878\n",
       "14        American hornbeam   Poor  0.061305\n",
       "15           American larch   Fair  0.173913\n",
       "16           American larch   Good  0.804348\n",
       "17           American larch   Poor  0.021739\n",
       "18          American linden   Fair  0.143681\n",
       "19          American linden   Good  0.801478\n",
       "20          American linden   Poor  0.054841\n",
       "21           Amur cork tree   Fair  0.207650\n",
       "22           Amur cork tree   Good  0.661202\n",
       "23           Amur cork tree   Poor  0.131148\n",
       "24             Amur maackia   Fair  0.127902\n",
       "25             Amur maackia   Good  0.824306\n",
       "26             Amur maackia   Poor  0.047792\n",
       "27               Amur maple   Fair  0.150805\n",
       "28               Amur maple   Good  0.800390\n",
       "29               Amur maple   Poor  0.048804\n",
       "..                      ...    ...       ...\n",
       "362            tartar maple   Fair  0.176471\n",
       "363            tartar maple   Good  0.745098\n",
       "364            tartar maple   Poor  0.078431\n",
       "365          tree of heaven   Fair  0.212963\n",
       "366          tree of heaven   Good  0.712963\n",
       "367          tree of heaven   Poor  0.074074\n",
       "368           trident maple   Fair  0.181818\n",
       "369           trident maple   Good  0.790909\n",
       "370           trident maple   Poor  0.027273\n",
       "371            tulip-poplar   Fair  0.189591\n",
       "372            tulip-poplar   Good  0.745353\n",
       "373            tulip-poplar   Poor  0.065056\n",
       "374   two-winged silverbell   Fair  0.253394\n",
       "375   two-winged silverbell   Good  0.714932\n",
       "376   two-winged silverbell   Poor  0.031674\n",
       "377          weeping willow   Fair  0.180851\n",
       "378          weeping willow   Good  0.773050\n",
       "379          weeping willow   Poor  0.046099\n",
       "380               white ash   Fair  0.148082\n",
       "381               white ash   Good  0.800178\n",
       "382               white ash   Poor  0.051740\n",
       "383               white oak   Fair  0.155991\n",
       "384               white oak   Good  0.789442\n",
       "385               white oak   Poor  0.054567\n",
       "386              white pine   Fair  0.178218\n",
       "387              white pine   Good  0.767327\n",
       "388              white pine   Poor  0.054455\n",
       "389              willow oak   Fair  0.113065\n",
       "390              willow oak   Good  0.855842\n",
       "391              willow oak   Poor  0.031093\n",
       "\n",
       "[392 rows x 3 columns]"
      ]
     },
     "execution_count": 42,
     "metadata": {},
     "output_type": "execute_result"
    }
   ],
   "source": [
    "tree_health_pct"
   ]
  },
  {
   "cell_type": "markdown",
   "metadata": {},
   "source": [
    "Tree types with the highest percentage of trees classified as poor, fair or good"
   ]
  },
  {
   "cell_type": "code",
   "execution_count": 43,
   "metadata": {},
   "outputs": [
    {
     "data": {
      "text/html": [
       "<div>\n",
       "<style>\n",
       "    .dataframe thead tr:only-child th {\n",
       "        text-align: right;\n",
       "    }\n",
       "\n",
       "    .dataframe thead th {\n",
       "        text-align: left;\n",
       "    }\n",
       "\n",
       "    .dataframe tbody tr th {\n",
       "        vertical-align: top;\n",
       "    }\n",
       "</style>\n",
       "<table border=\"1\" class=\"dataframe\">\n",
       "  <thead>\n",
       "    <tr style=\"text-align: right;\">\n",
       "      <th></th>\n",
       "      <th>spc_common</th>\n",
       "      <th>health</th>\n",
       "      <th>tree_id</th>\n",
       "    </tr>\n",
       "  </thead>\n",
       "  <tbody>\n",
       "    <tr>\n",
       "      <th>132</th>\n",
       "      <td>Virginia pine</td>\n",
       "      <td>Poor</td>\n",
       "      <td>0.200000</td>\n",
       "    </tr>\n",
       "    <tr>\n",
       "      <th>157</th>\n",
       "      <td>black pine</td>\n",
       "      <td>Fair</td>\n",
       "      <td>0.432432</td>\n",
       "    </tr>\n",
       "    <tr>\n",
       "      <th>292</th>\n",
       "      <td>pitch pine</td>\n",
       "      <td>Good</td>\n",
       "      <td>1.000000</td>\n",
       "    </tr>\n",
       "  </tbody>\n",
       "</table>\n",
       "</div>"
      ],
      "text/plain": [
       "        spc_common health   tree_id\n",
       "132  Virginia pine   Poor  0.200000\n",
       "157     black pine   Fair  0.432432\n",
       "292     pitch pine   Good  1.000000"
      ]
     },
     "execution_count": 43,
     "metadata": {},
     "output_type": "execute_result"
    }
   ],
   "source": [
    "tree_health_pct[tree_health_pct['tree_id'] == tree_health_pct.groupby(['health'])['tree_id'].transform(max)]\n"
   ]
  },
  {
   "cell_type": "markdown",
   "metadata": {},
   "source": [
    "#### How does our most common tree type, London planetree fair? "
   ]
  },
  {
   "cell_type": "code",
   "execution_count": 44,
   "metadata": {},
   "outputs": [
    {
     "data": {
      "text/html": [
       "<div>\n",
       "<style>\n",
       "    .dataframe thead tr:only-child th {\n",
       "        text-align: right;\n",
       "    }\n",
       "\n",
       "    .dataframe thead th {\n",
       "        text-align: left;\n",
       "    }\n",
       "\n",
       "    .dataframe tbody tr th {\n",
       "        vertical-align: top;\n",
       "    }\n",
       "</style>\n",
       "<table border=\"1\" class=\"dataframe\">\n",
       "  <thead>\n",
       "    <tr style=\"text-align: right;\">\n",
       "      <th></th>\n",
       "      <th>spc_common</th>\n",
       "      <th>health</th>\n",
       "      <th>tree_id</th>\n",
       "    </tr>\n",
       "  </thead>\n",
       "  <tbody>\n",
       "    <tr>\n",
       "      <th>36</th>\n",
       "      <td>Callery pear</td>\n",
       "      <td>Fair</td>\n",
       "      <td>0.148801</td>\n",
       "    </tr>\n",
       "    <tr>\n",
       "      <th>37</th>\n",
       "      <td>Callery pear</td>\n",
       "      <td>Good</td>\n",
       "      <td>0.815751</td>\n",
       "    </tr>\n",
       "    <tr>\n",
       "      <th>38</th>\n",
       "      <td>Callery pear</td>\n",
       "      <td>Poor</td>\n",
       "      <td>0.035448</td>\n",
       "    </tr>\n",
       "    <tr>\n",
       "      <th>84</th>\n",
       "      <td>Japanese zelkova</td>\n",
       "      <td>Fair</td>\n",
       "      <td>0.109064</td>\n",
       "    </tr>\n",
       "    <tr>\n",
       "      <th>85</th>\n",
       "      <td>Japanese zelkova</td>\n",
       "      <td>Good</td>\n",
       "      <td>0.864208</td>\n",
       "    </tr>\n",
       "    <tr>\n",
       "      <th>86</th>\n",
       "      <td>Japanese zelkova</td>\n",
       "      <td>Poor</td>\n",
       "      <td>0.026728</td>\n",
       "    </tr>\n",
       "    <tr>\n",
       "      <th>93</th>\n",
       "      <td>London planetree</td>\n",
       "      <td>Fair</td>\n",
       "      <td>0.132220</td>\n",
       "    </tr>\n",
       "    <tr>\n",
       "      <th>94</th>\n",
       "      <td>London planetree</td>\n",
       "      <td>Good</td>\n",
       "      <td>0.842520</td>\n",
       "    </tr>\n",
       "    <tr>\n",
       "      <th>95</th>\n",
       "      <td>London planetree</td>\n",
       "      <td>Poor</td>\n",
       "      <td>0.025260</td>\n",
       "    </tr>\n",
       "    <tr>\n",
       "      <th>96</th>\n",
       "      <td>Norway maple</td>\n",
       "      <td>Fair</td>\n",
       "      <td>0.267981</td>\n",
       "    </tr>\n",
       "    <tr>\n",
       "      <th>97</th>\n",
       "      <td>Norway maple</td>\n",
       "      <td>Good</td>\n",
       "      <td>0.621486</td>\n",
       "    </tr>\n",
       "    <tr>\n",
       "      <th>98</th>\n",
       "      <td>Norway maple</td>\n",
       "      <td>Poor</td>\n",
       "      <td>0.110533</td>\n",
       "    </tr>\n",
       "    <tr>\n",
       "      <th>125</th>\n",
       "      <td>Sophora</td>\n",
       "      <td>Fair</td>\n",
       "      <td>0.149447</td>\n",
       "    </tr>\n",
       "    <tr>\n",
       "      <th>126</th>\n",
       "      <td>Sophora</td>\n",
       "      <td>Good</td>\n",
       "      <td>0.818699</td>\n",
       "    </tr>\n",
       "    <tr>\n",
       "      <th>127</th>\n",
       "      <td>Sophora</td>\n",
       "      <td>Poor</td>\n",
       "      <td>0.031854</td>\n",
       "    </tr>\n",
       "    <tr>\n",
       "      <th>178</th>\n",
       "      <td>cherry</td>\n",
       "      <td>Fair</td>\n",
       "      <td>0.117764</td>\n",
       "    </tr>\n",
       "    <tr>\n",
       "      <th>179</th>\n",
       "      <td>cherry</td>\n",
       "      <td>Good</td>\n",
       "      <td>0.837665</td>\n",
       "    </tr>\n",
       "    <tr>\n",
       "      <th>180</th>\n",
       "      <td>cherry</td>\n",
       "      <td>Poor</td>\n",
       "      <td>0.044571</td>\n",
       "    </tr>\n",
       "    <tr>\n",
       "      <th>223</th>\n",
       "      <td>ginkgo</td>\n",
       "      <td>Fair</td>\n",
       "      <td>0.132230</td>\n",
       "    </tr>\n",
       "    <tr>\n",
       "      <th>224</th>\n",
       "      <td>ginkgo</td>\n",
       "      <td>Good</td>\n",
       "      <td>0.814593</td>\n",
       "    </tr>\n",
       "    <tr>\n",
       "      <th>225</th>\n",
       "      <td>ginkgo</td>\n",
       "      <td>Poor</td>\n",
       "      <td>0.053177</td>\n",
       "    </tr>\n",
       "    <tr>\n",
       "      <th>244</th>\n",
       "      <td>honeylocust</td>\n",
       "      <td>Fair</td>\n",
       "      <td>0.133389</td>\n",
       "    </tr>\n",
       "    <tr>\n",
       "      <th>245</th>\n",
       "      <td>honeylocust</td>\n",
       "      <td>Good</td>\n",
       "      <td>0.848093</td>\n",
       "    </tr>\n",
       "    <tr>\n",
       "      <th>246</th>\n",
       "      <td>honeylocust</td>\n",
       "      <td>Poor</td>\n",
       "      <td>0.018518</td>\n",
       "    </tr>\n",
       "    <tr>\n",
       "      <th>256</th>\n",
       "      <td>littleleaf linden</td>\n",
       "      <td>Fair</td>\n",
       "      <td>0.149284</td>\n",
       "    </tr>\n",
       "    <tr>\n",
       "      <th>257</th>\n",
       "      <td>littleleaf linden</td>\n",
       "      <td>Good</td>\n",
       "      <td>0.792885</td>\n",
       "    </tr>\n",
       "    <tr>\n",
       "      <th>258</th>\n",
       "      <td>littleleaf linden</td>\n",
       "      <td>Poor</td>\n",
       "      <td>0.057831</td>\n",
       "    </tr>\n",
       "    <tr>\n",
       "      <th>286</th>\n",
       "      <td>pin oak</td>\n",
       "      <td>Fair</td>\n",
       "      <td>0.120222</td>\n",
       "    </tr>\n",
       "    <tr>\n",
       "      <th>287</th>\n",
       "      <td>pin oak</td>\n",
       "      <td>Good</td>\n",
       "      <td>0.856557</td>\n",
       "    </tr>\n",
       "    <tr>\n",
       "      <th>288</th>\n",
       "      <td>pin oak</td>\n",
       "      <td>Poor</td>\n",
       "      <td>0.023221</td>\n",
       "    </tr>\n",
       "  </tbody>\n",
       "</table>\n",
       "</div>"
      ],
      "text/plain": [
       "            spc_common health   tree_id\n",
       "36        Callery pear   Fair  0.148801\n",
       "37        Callery pear   Good  0.815751\n",
       "38        Callery pear   Poor  0.035448\n",
       "84    Japanese zelkova   Fair  0.109064\n",
       "85    Japanese zelkova   Good  0.864208\n",
       "86    Japanese zelkova   Poor  0.026728\n",
       "93    London planetree   Fair  0.132220\n",
       "94    London planetree   Good  0.842520\n",
       "95    London planetree   Poor  0.025260\n",
       "96        Norway maple   Fair  0.267981\n",
       "97        Norway maple   Good  0.621486\n",
       "98        Norway maple   Poor  0.110533\n",
       "125            Sophora   Fair  0.149447\n",
       "126            Sophora   Good  0.818699\n",
       "127            Sophora   Poor  0.031854\n",
       "178             cherry   Fair  0.117764\n",
       "179             cherry   Good  0.837665\n",
       "180             cherry   Poor  0.044571\n",
       "223             ginkgo   Fair  0.132230\n",
       "224             ginkgo   Good  0.814593\n",
       "225             ginkgo   Poor  0.053177\n",
       "244        honeylocust   Fair  0.133389\n",
       "245        honeylocust   Good  0.848093\n",
       "246        honeylocust   Poor  0.018518\n",
       "256  littleleaf linden   Fair  0.149284\n",
       "257  littleleaf linden   Good  0.792885\n",
       "258  littleleaf linden   Poor  0.057831\n",
       "286            pin oak   Fair  0.120222\n",
       "287            pin oak   Good  0.856557\n",
       "288            pin oak   Poor  0.023221"
      ]
     },
     "execution_count": 44,
     "metadata": {},
     "output_type": "execute_result"
    }
   ],
   "source": [
    "tree10pct = tree_health_pct.loc[tree_health_pct['spc_common'].isin(top10tree)]\n",
    "tree10pct\n"
   ]
  },
  {
   "cell_type": "code",
   "execution_count": 45,
   "metadata": {},
   "outputs": [
    {
     "data": {
      "text/plain": [
       "Index([u'tree_id', u'block_id', u'created_at', u'tree_dbh', u'stump_diam',\n",
       "       u'curb_loc', u'status', u'health', u'spc_latin', u'spc_common',\n",
       "       u'steward', u'guards', u'sidewalk', u'user_type', u'problems',\n",
       "       u'root_stone', u'root_grate', u'root_other', u'trunk_wire',\n",
       "       u'trnk_light', u'trnk_other', u'brch_light', u'brch_shoe',\n",
       "       u'brch_other', u'address', u'postcode', u'zip_city', u'community board',\n",
       "       u'borocode', u'borough', u'cncldist', u'st_assem', u'st_senate', u'nta',\n",
       "       u'nta_name', u'boro_ct', u'state', u'latitude', u'longitude', u'x_sp',\n",
       "       u'y_sp', u'council district', u'census tract', u'bin', u'bbl'],\n",
       "      dtype='object')"
      ]
     },
     "execution_count": 45,
     "metadata": {},
     "output_type": "execute_result"
    }
   ],
   "source": [
    "tree10.columns"
   ]
  },
  {
   "cell_type": "code",
   "execution_count": 46,
   "metadata": {},
   "outputs": [],
   "source": [
    "#remove unneccessary columns\n",
    "tree10_select = tree10[['tree_id','tree_dbh', 'stump_diam', 'curb_loc', 'status', 'health', 'spc_common', 'sidewalk', 'user_type', 'root_stone', 'root_grate', 'root_other', 'trunk_wire', 'trnk_light', 'trnk_other', 'brch_light', 'brch_shoe', 'brch_other']]"
   ]
  },
  {
   "cell_type": "code",
   "execution_count": 47,
   "metadata": {},
   "outputs": [
    {
     "data": {
      "text/plain": [
       "(426224, 18)"
      ]
     },
     "execution_count": 47,
     "metadata": {},
     "output_type": "execute_result"
    }
   ],
   "source": [
    "tree10_select.shape"
   ]
  },
  {
   "cell_type": "code",
   "execution_count": 48,
   "metadata": {},
   "outputs": [
    {
     "data": {
      "text/plain": [
       "(426222, 18)"
      ]
     },
     "execution_count": 48,
     "metadata": {},
     "output_type": "execute_result"
    }
   ],
   "source": [
    "data=tree10_select.dropna()\n",
    "data.shape"
   ]
  },
  {
   "cell_type": "code",
   "execution_count": 84,
   "metadata": {},
   "outputs": [
    {
     "name": "stdout",
     "output_type": "stream",
     "text": [
      "         tree_dbh  stump_diam  curb_loc_OffsetFromCurb  curb_loc_OnCurb  \\\n",
      "663269        26           0                        0                1   \n",
      "368187        32           0                        0                1   \n",
      "573028        17           0                        0                1   \n",
      "252652         8           0                        0                1   \n",
      "185049        15           0                        0                1   \n",
      "\n",
      "        status_Alive  spc_common_Callery pear  spc_common_Japanese zelkova  \\\n",
      "663269             1                        0                            0   \n",
      "368187             1                        0                            0   \n",
      "573028             1                        0                            0   \n",
      "252652             1                        0                            0   \n",
      "185049             1                        0                            0   \n",
      "\n",
      "        spc_common_London planetree  spc_common_Norway maple  \\\n",
      "663269                            1                        0   \n",
      "368187                            1                        0   \n",
      "573028                            1                        0   \n",
      "252652                            0                        0   \n",
      "185049                            0                        1   \n",
      "\n",
      "        spc_common_Sophora       ...        trnk_light_No  trnk_light_Yes  \\\n",
      "663269                   0       ...                    1               0   \n",
      "368187                   0       ...                    1               0   \n",
      "573028                   0       ...                    1               0   \n",
      "252652                   0       ...                    1               0   \n",
      "185049                   0       ...                    1               0   \n",
      "\n",
      "        trnk_other_No  trnk_other_Yes  brch_light_No  brch_light_Yes  \\\n",
      "663269              1               0              1               0   \n",
      "368187              1               0              1               0   \n",
      "573028              1               0              1               0   \n",
      "252652              1               0              1               0   \n",
      "185049              1               0              0               1   \n",
      "\n",
      "        brch_shoe_No  brch_shoe_Yes  brch_other_No  brch_other_Yes  \n",
      "663269             1              0              1               0  \n",
      "368187             1              0              1               0  \n",
      "573028             1              0              1               0  \n",
      "252652             1              0              1               0  \n",
      "185049             1              0              1               0  \n",
      "\n",
      "[5 rows x 38 columns]\n"
     ]
    }
   ],
   "source": [
    "# remove records with any missing values\n",
    "data=tree10_select.dropna()\n",
    "\n",
    "\n",
    "y=data.loc[:,\"health\"]\n",
    "\n",
    "X=data.loc[:, (data.columns != \"health\") & (data.columns != \"tree_id\")]\n",
    "X=pd.get_dummies(X)\n",
    "\n",
    "# Split data into 70% train, 30% test\n",
    "X_train,X_test,y_train,y_test=train_test_split(X, y, test_size=0.3, random_state=999)\n",
    "print X_train.head()"
   ]
  },
  {
   "cell_type": "markdown",
   "metadata": {},
   "source": [
    "### Modelling on top10 tree types with original unbalanced training data"
   ]
  },
  {
   "cell_type": "code",
   "execution_count": 50,
   "metadata": {},
   "outputs": [
    {
     "name": "stdout",
     "output_type": "stream",
     "text": [
      "In sample accuracy: 0.839566958824\n",
      "Out of sample accuracy: 0.808801332635\n"
     ]
    }
   ],
   "source": [
    "from sklearn.tree import DecisionTreeClassifier\n",
    "\n",
    "# learn model\n",
    "dt=DecisionTreeClassifier()\n",
    "dt.fit(X_train,y_train)\n",
    "\n",
    "# in sample accuracy\n",
    "print 'In sample accuracy:',dt.score(X_train,y_train)\n",
    "\n",
    "# out of sample accuracy\n",
    "print 'Out of sample accuracy:',dt.score(X_test,y_test)"
   ]
  },
  {
   "cell_type": "code",
   "execution_count": 51,
   "metadata": {},
   "outputs": [
    {
     "name": "stdout",
     "output_type": "stream",
     "text": [
      "0.806584967192\n"
     ]
    }
   ],
   "source": [
    "OS=[]\n",
    "for i in range(10):\n",
    "    X_train, X_test, y_train, y_test = train_test_split(X, y, test_size = 0.3, random_state = i)    \n",
    "    dt = DecisionTreeClassifier()\n",
    "    dt.fit(X_train,y_train)\n",
    "    OS.append(dt.score(X_test,y_test))\n",
    "print np.mean(OS)"
   ]
  },
  {
   "cell_type": "code",
   "execution_count": 52,
   "metadata": {},
   "outputs": [
    {
     "name": "stdout",
     "output_type": "stream",
     "text": [
      "Best parameter value: {'max_depth': 6}\n",
      "Accuracy =  0.821040612511\n"
     ]
    }
   ],
   "source": [
    "from sklearn.model_selection import GridSearchCV\n",
    "param_grid ={'max_depth':range(1,11)}\n",
    "dt = DecisionTreeClassifier()\n",
    "gr=GridSearchCV(dt,param_grid=param_grid)\n",
    "rs=gr.fit(X_train,y_train)\n",
    "print 'Best parameter value:',rs.best_params_\n",
    "y_predict = rs.predict(X_test)\n",
    "print 'Accuracy = ',((y_predict == y_test).value_counts(normalize=True)[True])"
   ]
  },
  {
   "cell_type": "code",
   "execution_count": 53,
   "metadata": {},
   "outputs": [],
   "source": [
    "from sklearn.metrics import confusion_matrix\n",
    "cm = confusion_matrix(y_test, y_predict)"
   ]
  },
  {
   "cell_type": "code",
   "execution_count": 54,
   "metadata": {},
   "outputs": [
    {
     "data": {
      "text/plain": [
       "array([[   353,  17726,    143],\n",
       "       [   320, 104468,     72],\n",
       "       [   198,   4424,    163]])"
      ]
     },
     "execution_count": 54,
     "metadata": {},
     "output_type": "execute_result"
    }
   ],
   "source": [
    "cm"
   ]
  },
  {
   "cell_type": "code",
   "execution_count": 55,
   "metadata": {},
   "outputs": [
    {
     "data": {
      "text/html": [
       "<div>\n",
       "<style>\n",
       "    .dataframe thead tr:only-child th {\n",
       "        text-align: right;\n",
       "    }\n",
       "\n",
       "    .dataframe thead th {\n",
       "        text-align: left;\n",
       "    }\n",
       "\n",
       "    .dataframe tbody tr th {\n",
       "        vertical-align: top;\n",
       "    }\n",
       "</style>\n",
       "<table border=\"1\" class=\"dataframe\">\n",
       "  <thead>\n",
       "    <tr style=\"text-align: right;\">\n",
       "      <th></th>\n",
       "      <th>variables</th>\n",
       "      <th>importance</th>\n",
       "    </tr>\n",
       "  </thead>\n",
       "  <tbody>\n",
       "    <tr>\n",
       "      <th>8</th>\n",
       "      <td>spc_common_Norway maple</td>\n",
       "      <td>0.324333</td>\n",
       "    </tr>\n",
       "    <tr>\n",
       "      <th>36</th>\n",
       "      <td>brch_other_No</td>\n",
       "      <td>0.23601</td>\n",
       "    </tr>\n",
       "    <tr>\n",
       "      <th>0</th>\n",
       "      <td>tree_dbh</td>\n",
       "      <td>0.118564</td>\n",
       "    </tr>\n",
       "    <tr>\n",
       "      <th>30</th>\n",
       "      <td>trnk_other_No</td>\n",
       "      <td>0.0895719</td>\n",
       "    </tr>\n",
       "    <tr>\n",
       "      <th>17</th>\n",
       "      <td>user_type_NYC Parks Staff</td>\n",
       "      <td>0.0641785</td>\n",
       "    </tr>\n",
       "  </tbody>\n",
       "</table>\n",
       "</div>"
      ],
      "text/plain": [
       "                    variables importance\n",
       "8     spc_common_Norway maple   0.324333\n",
       "36              brch_other_No    0.23601\n",
       "0                    tree_dbh   0.118564\n",
       "30              trnk_other_No  0.0895719\n",
       "17  user_type_NYC Parks Staff  0.0641785"
      ]
     },
     "execution_count": 55,
     "metadata": {},
     "output_type": "execute_result"
    }
   ],
   "source": [
    "dt = DecisionTreeClassifier(max_depth=6)\n",
    "dt.fit(X_train, y_train)\n",
    "Feature_importance=pd.DataFrame([list(X_train.columns),list(dt.feature_importances_)]).T\n",
    "Feature_importance.columns=[\"variables\",\"importance\"]\n",
    "\n",
    "# list the top 5 most important features in order\n",
    "Feature_importance.sort_values(by=\"importance\",ascending=False).iloc[:5,:]"
   ]
  },
  {
   "cell_type": "raw",
   "metadata": {},
   "source": [
    "# Let's generate our new training and testing model using the top three features.\n",
    "X_train_simple=X_train.loc[:,[\"spc_common_Norway_maple\",\"brch_other_Yes\",\"tree_dbh\", \"trnk_other_No\", \"user_type_NYC Parks Staff\"]]\n",
    "X_test_simple=X_test.loc[:,[\"spc_common_Norway_maple\",\"brch_other_Yes\",\"tree_dbh\", \"trnk_other_No\", \"user_type_NYC Parks Staff\"]]\n",
    "\n",
    "# Now let's see the performance of this simple model.\n",
    "dt = DecisionTreeClassifier(max_depth=6)\n",
    "dt.fit(X_train_simple, y_train)\n",
    "print \"The accuracy for this simple model with 5 features is\", dt.score(X_test_simple,y_test)"
   ]
  },
  {
   "cell_type": "markdown",
   "metadata": {},
   "source": [
    "## SVM Classifier"
   ]
  },
  {
   "cell_type": "code",
   "execution_count": null,
   "metadata": {},
   "outputs": [],
   "source": [
    "# training a linear SVM classifier\n",
    "from sklearn.svm import SVC\n",
    "svm_model_linear = SVC(kernel = 'linear', C = 1).fit(X_train, y_train)\n",
    "svm_predictions = svm_model_linear.predict(X_test)\n",
    " \n",
    "# model accuracy for X_test  \n",
    "accuracy = svm_model_linear.score(X_test, y_test)\n",
    "print accuracy\n",
    "\n",
    "# creating a confusion matrix\n",
    "cm = confusion_matrix(y_test, svm_predictions)\n",
    "print cm"
   ]
  },
  {
   "cell_type": "markdown",
   "metadata": {},
   "source": [
    "## KNN Classifier"
   ]
  },
  {
   "cell_type": "code",
   "execution_count": 57,
   "metadata": {},
   "outputs": [
    {
     "name": "stdout",
     "output_type": "stream",
     "text": [
      "0.802763809271\n",
      "[[  1630  16372    220]\n",
      " [  3691 100848    321]\n",
      " [   654   3962    169]]\n"
     ]
    }
   ],
   "source": [
    "# training a KNN classifier\n",
    "from sklearn.neighbors import KNeighborsClassifier\n",
    "knn = KNeighborsClassifier(n_neighbors = 7).fit(X_train, y_train)\n",
    " \n",
    "# accuracy on X_test\n",
    "accuracy = knn.score(X_test, y_test)\n",
    "print accuracy\n",
    " \n",
    "# creating a confusion matrix\n",
    "knn_predictions = knn.predict(X_test) \n",
    "cm = confusion_matrix(y_test, knn_predictions)\n",
    "print cm"
   ]
  },
  {
   "cell_type": "markdown",
   "metadata": {},
   "source": [
    "## NB Classifier"
   ]
  },
  {
   "cell_type": "code",
   "execution_count": 26,
   "metadata": {},
   "outputs": [
    {
     "name": "stdout",
     "output_type": "stream",
     "text": [
      "0.749192520353\n",
      "[[ 1889 13872  2461]\n",
      " [ 6997 92935  4928]\n",
      " [  381  3431   973]]\n"
     ]
    }
   ],
   "source": [
    "# training a Naive Bayes classifier\n",
    "from sklearn.naive_bayes import GaussianNB\n",
    "gnb = GaussianNB().fit(X_train, y_train)\n",
    "gnb_predictions = gnb.predict(X_test)\n",
    " \n",
    "# accuracy on X_test\n",
    "accuracy = gnb.score(X_test, y_test)\n",
    "print accuracy\n",
    " \n",
    "# creating a confusion matrix\n",
    "cm = confusion_matrix(y_test, gnb_predictions)\n",
    "print cm"
   ]
  },
  {
   "cell_type": "markdown",
   "metadata": {},
   "source": [
    "## Modelling on top10 tree types with balanced training data using package imbalanced-learn\n",
    "https://github.com/scikit-learn-contrib/imbalanced-learn"
   ]
  },
  {
   "cell_type": "raw",
   "metadata": {},
   "source": [
    "# remove records with any missing values\n",
    "data=tree10_select.dropna()\n",
    "\n",
    "\n",
    "y=data.loc[:,\"health\"]\n",
    "\n",
    "X=data.loc[:, (data.columns != \"health\") & (data.columns != \"tree_id\")]\n",
    "X=pd.get_dummies(X)\n",
    "\n",
    "from imblearn.over_sampling import RandomOverSampler\n",
    "ros = RandomOverSampler(random_state=0)\n",
    "X_resampled, y_resampled = ros.fit_sample(X, y)\n",
    "from collections import Counter\n",
    "print(sorted(Counter(y_resampled).items()))\n",
    "\n",
    "# Split data into 70% train, 30% test\n",
    "X_train,X_test,y_train,y_test=train_test_split(X_resampled, y_resampled, test_size=0.3, random_state=999)\n",
    "print X_train"
   ]
  },
  {
   "cell_type": "markdown",
   "metadata": {},
   "source": [
    "#### First trying a naive random over-sampling: Generating new samples in the classes which are under-represented by randomly sampling with replacement the current available samples."
   ]
  },
  {
   "cell_type": "code",
   "execution_count": 85,
   "metadata": {},
   "outputs": [
    {
     "name": "stdout",
     "output_type": "stream",
     "text": [
      "[('Fair', 244121), ('Good', 244121), ('Poor', 244121)]\n"
     ]
    }
   ],
   "source": [
    "from imblearn.over_sampling import RandomOverSampler\n",
    "ros = RandomOverSampler(random_state=0)\n",
    "X_resampled, y_resampled = ros.fit_sample(X_train, y_train)\n",
    "from collections import Counter\n",
    "print(sorted(Counter(y_resampled).items()))"
   ]
  },
  {
   "cell_type": "code",
   "execution_count": 87,
   "metadata": {},
   "outputs": [
    {
     "name": "stdout",
     "output_type": "stream",
     "text": [
      "In sample accuracy: 0.595486118223\n",
      "Out of sample accuracy: 0.54595790939\n"
     ]
    }
   ],
   "source": [
    "from sklearn.tree import DecisionTreeClassifier\n",
    "\n",
    "# learn model\n",
    "dt=DecisionTreeClassifier()\n",
    "dt.fit(X_resampled,y_resampled)\n",
    "\n",
    "# in sample accuracy\n",
    "print 'In sample accuracy:',dt.score(X_resampled,y_resampled)\n",
    "\n",
    "# out of sample accuracy\n",
    "print 'Out of sample accuracy:',dt.score(X_test,y_test)"
   ]
  },
  {
   "cell_type": "markdown",
   "metadata": {},
   "source": [
    "We can see that the accuracy has dropped significantly"
   ]
  },
  {
   "cell_type": "code",
   "execution_count": 88,
   "metadata": {},
   "outputs": [
    {
     "name": "stdout",
     "output_type": "stream",
     "text": [
      "Best parameter value: {'max_depth': 10}\n",
      "Accuracy =  0.564164326996\n"
     ]
    }
   ],
   "source": [
    "from sklearn.model_selection import GridSearchCV\n",
    "param_grid ={'max_depth':range(1,11)}\n",
    "dt = DecisionTreeClassifier()\n",
    "gr=GridSearchCV(dt,param_grid=param_grid)\n",
    "rs=gr.fit(X_resampled,y_resampled)\n",
    "print 'Best parameter value:',rs.best_params_\n",
    "y_predict = rs.predict(X_test)\n",
    "print 'Accuracy = ',((y_predict == y_test).value_counts(normalize=True)[True])"
   ]
  },
  {
   "cell_type": "code",
   "execution_count": 89,
   "metadata": {},
   "outputs": [
    {
     "data": {
      "text/plain": [
       "array([[ 2841,  7866,  7416],\n",
       "       [10185, 66375, 28358],\n",
       "       [  525,  1379,  2922]])"
      ]
     },
     "execution_count": 89,
     "metadata": {},
     "output_type": "execute_result"
    }
   ],
   "source": [
    "from sklearn.metrics import confusion_matrix\n",
    "cm = confusion_matrix(y_test, y_predict)\n",
    "cm"
   ]
  },
  {
   "cell_type": "markdown",
   "metadata": {},
   "source": [
    "Apart from the random sampling with replacement, there is two popular methods to over-sample minority classes: (i) Synthetic Minority Oversampling Technique (SMOTE) and (ii) Adaptive Synthetic (ADASYN) sampling method."
   ]
  },
  {
   "cell_type": "code",
   "execution_count": 90,
   "metadata": {},
   "outputs": [
    {
     "name": "stdout",
     "output_type": "stream",
     "text": [
      "[('Fair', 244121), ('Good', 244121), ('Poor', 244121)]\n"
     ]
    }
   ],
   "source": [
    "from imblearn.over_sampling import SMOTE, ADASYN\n",
    "X_resampled_s, y_resampled_s = SMOTE().fit_sample(X_train, y_train)\n",
    "print(sorted(Counter(y_resampled_s).items()))"
   ]
  },
  {
   "cell_type": "code",
   "execution_count": 91,
   "metadata": {},
   "outputs": [
    {
     "name": "stdout",
     "output_type": "stream",
     "text": [
      "('Coefficient: \\n', array([[ -1.58814840e-03,   0.00000000e+00,   5.47722028e-02,\n",
      "         -8.42311610e-02,  -2.94589582e-02,   1.65820840e-01,\n",
      "         -1.15927035e-01,   1.14432639e-01,   3.68989814e-02,\n",
      "          1.69015112e-01,  -2.21448376e-01,  -2.56420436e-01,\n",
      "          2.11972715e-01,  -1.55082367e-01,   2.12789684e-02,\n",
      "          2.37777082e-02,  -5.32366664e-02,  -1.54722378e-01,\n",
      "          7.71993609e-02,   4.80640592e-02,  -9.35776750e-02,\n",
      "          6.41187168e-02,  -1.33059821e-01,   1.03600863e-01,\n",
      "         -6.73380434e-02,   3.78790852e-02,  -5.31444650e-02,\n",
      "          2.36855068e-02,  -5.45047421e-02,   2.50457839e-02,\n",
      "         -5.10398467e-03,  -2.43549735e-02,  -9.47554447e-02,\n",
      "          6.52964866e-02,  -1.09887410e-01,   8.04284521e-02,\n",
      "         -1.40689938e-02,  -1.53899643e-02],\n",
      "       [  5.90845367e-02,   0.00000000e+00,  -2.67379817e-01,\n",
      "         -1.70954210e-01,  -4.38334026e-01,   5.10243462e-02,\n",
      "          5.38402510e-01,  -2.40950060e-01,  -1.38163413e+00,\n",
      "          1.76596341e-01,   1.93517112e-01,  -3.48565942e-02,\n",
      "          4.21475207e-01,  -2.23380565e-01,   6.14718028e-02,\n",
      "         -1.92846605e-01,  -2.45487422e-01,  -1.43120983e-01,\n",
      "         -1.86228895e-01,  -1.08984148e-01,  -1.15690822e-01,\n",
      "         -3.22643204e-01,   1.14416160e-01,  -5.52750186e-01,\n",
      "         -1.18847570e-01,  -3.19486456e-01,  -7.42952117e-02,\n",
      "         -3.64038815e-01,  -1.09895636e-01,  -3.28438390e-01,\n",
      "          2.70997374e-01,  -7.09331400e-01,  -1.64477865e-01,\n",
      "         -2.73856162e-01,   1.59900713e-01,  -5.98234739e-01,\n",
      "          4.11488708e-01,  -8.49822734e-01],\n",
      "       [ -6.91129495e-02,   0.00000000e+00,   4.08812101e-02,\n",
      "          9.46039237e-02,   1.35485134e-01,  -1.85595534e-01,\n",
      "         -4.36776080e-01,   1.45365406e-01,   1.10298266e+00,\n",
      "         -3.34457854e-01,   1.51994915e-02,   2.89679300e-01,\n",
      "         -7.21440464e-01,   3.74505249e-01,  -1.13977045e-01,\n",
      "          2.11175740e-04,   1.35273958e-01,   1.87231211e-01,\n",
      "         -1.03331053e-02,  -4.14129720e-02,   5.37651500e-02,\n",
      "          8.17199838e-02,  -8.39761317e-02,   2.19461266e-01,\n",
      "          4.72595247e-02,   8.82256091e-02,  -2.73829400e-02,\n",
      "          1.62868074e-01,   1.58489073e-02,   1.19636227e-01,\n",
      "         -2.87497697e-01,   4.22982831e-01,   1.00670445e-01,\n",
      "          3.48146889e-02,  -1.73143321e-01,   3.08628455e-01,\n",
      "         -3.34374708e-01,   4.69859842e-01]]))\n",
      "('Intercept: \\n', array([-0.02945896, -0.43833403,  0.13548513]))\n"
     ]
    }
   ],
   "source": [
    "from sklearn.linear_model import LogisticRegression\n",
    "model = LogisticRegression()\n",
    "model.fit(X_resampled, y_resampled)\n",
    "model.score(X_resampled, y_resampled)\n",
    "#Equation coefficient and Intercept\n",
    "print('Coefficient: \\n', model.coef_)\n",
    "print('Intercept: \\n', model.intercept_)\n",
    "#Predict Output\n",
    "predicted= model.predict(X_test)"
   ]
  },
  {
   "cell_type": "code",
   "execution_count": 92,
   "metadata": {},
   "outputs": [
    {
     "data": {
      "text/plain": [
       "array(['Good', 'Poor', 'Good', ..., 'Poor', 'Good', 'Good'],\n",
       "      dtype='|S4')"
      ]
     },
     "execution_count": 92,
     "metadata": {},
     "output_type": "execute_result"
    }
   ],
   "source": [
    "from sklearn.naive_bayes import GaussianNB\n",
    "model = GaussianNB()\n",
    "model.fit(X_resampled, y_resampled)\n",
    "#Predict Output\n",
    "predicted= model.predict(X_test)\n",
    "predicted"
   ]
  },
  {
   "cell_type": "markdown",
   "metadata": {},
   "source": [
    "# TBC"
   ]
  },
  {
   "cell_type": "code",
   "execution_count": null,
   "metadata": {},
   "outputs": [],
   "source": []
  }
 ],
 "metadata": {
  "kernelspec": {
   "display_name": "Python 2",
   "language": "python",
   "name": "python2"
  },
  "language_info": {
   "codemirror_mode": {
    "name": "ipython",
    "version": 2
   },
   "file_extension": ".py",
   "mimetype": "text/x-python",
   "name": "python",
   "nbconvert_exporter": "python",
   "pygments_lexer": "ipython2",
   "version": "2.7.13"
  }
 },
 "nbformat": 4,
 "nbformat_minor": 2
}
